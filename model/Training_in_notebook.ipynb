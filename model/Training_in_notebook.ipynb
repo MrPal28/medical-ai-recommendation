{
 "cells": [
  {
   "cell_type": "code",
   "execution_count": 4,
   "id": "14416107-4206-4d0c-b0a5-fb9aced7e711",
   "metadata": {},
   "outputs": [],
   "source": [
    "import numpy as np \n",
    "import pandas as pd \n",
    "import matplotlib as plt\n",
    "import seaborn as sns\n",
    "\n"
   ]
  },
  {
   "cell_type": "code",
   "execution_count": 5,
   "id": "d7c13e76",
   "metadata": {},
   "outputs": [],
   "source": [
    "data = pd.read_csv(r\"Training.csv\")"
   ]
  },
  {
   "cell_type": "code",
   "execution_count": 6,
   "id": "ff5f9cc2",
   "metadata": {},
   "outputs": [
    {
     "data": {
      "text/plain": [
       "<bound method NDFrame.head of       itching  skin_rash  nodal_skin_eruptions  continuous_sneezing  \\\n",
       "0           1          1                     1                    0   \n",
       "1           0          1                     1                    0   \n",
       "2           1          0                     1                    0   \n",
       "3           1          1                     0                    0   \n",
       "4           1          1                     1                    0   \n",
       "...       ...        ...                   ...                  ...   \n",
       "4915        0          0                     0                    0   \n",
       "4916        0          1                     0                    0   \n",
       "4917        0          0                     0                    0   \n",
       "4918        0          1                     0                    0   \n",
       "4919        0          1                     0                    0   \n",
       "\n",
       "      shivering  chills  joint_pain  stomach_pain  acidity  ulcers_on_tongue  \\\n",
       "0             0       0           0             0        0                 0   \n",
       "1             0       0           0             0        0                 0   \n",
       "2             0       0           0             0        0                 0   \n",
       "3             0       0           0             0        0                 0   \n",
       "4             0       0           0             0        0                 0   \n",
       "...         ...     ...         ...           ...      ...               ...   \n",
       "4915          0       0           0             0        0                 0   \n",
       "4916          0       0           0             0        0                 0   \n",
       "4917          0       0           0             0        0                 0   \n",
       "4918          0       0           1             0        0                 0   \n",
       "4919          0       0           0             0        0                 0   \n",
       "\n",
       "      ...  blackheads  scurring  skin_peeling  silver_like_dusting  \\\n",
       "0     ...           0         0             0                    0   \n",
       "1     ...           0         0             0                    0   \n",
       "2     ...           0         0             0                    0   \n",
       "3     ...           0         0             0                    0   \n",
       "4     ...           0         0             0                    0   \n",
       "...   ...         ...       ...           ...                  ...   \n",
       "4915  ...           0         0             0                    0   \n",
       "4916  ...           1         1             0                    0   \n",
       "4917  ...           0         0             0                    0   \n",
       "4918  ...           0         0             1                    1   \n",
       "4919  ...           0         0             0                    0   \n",
       "\n",
       "      small_dents_in_nails  inflammatory_nails  blister  red_sore_around_nose  \\\n",
       "0                        0                   0        0                     0   \n",
       "1                        0                   0        0                     0   \n",
       "2                        0                   0        0                     0   \n",
       "3                        0                   0        0                     0   \n",
       "4                        0                   0        0                     0   \n",
       "...                    ...                 ...      ...                   ...   \n",
       "4915                     0                   0        0                     0   \n",
       "4916                     0                   0        0                     0   \n",
       "4917                     0                   0        0                     0   \n",
       "4918                     1                   1        0                     0   \n",
       "4919                     0                   0        1                     1   \n",
       "\n",
       "      yellow_crust_ooze                                prognosis  \n",
       "0                     0                         Fungal infection  \n",
       "1                     0                         Fungal infection  \n",
       "2                     0                         Fungal infection  \n",
       "3                     0                         Fungal infection  \n",
       "4                     0                         Fungal infection  \n",
       "...                 ...                                      ...  \n",
       "4915                  0  (vertigo) Paroymsal  Positional Vertigo  \n",
       "4916                  0                                     Acne  \n",
       "4917                  0                  Urinary tract infection  \n",
       "4918                  0                                Psoriasis  \n",
       "4919                  1                                 Impetigo  \n",
       "\n",
       "[4920 rows x 133 columns]>"
      ]
     },
     "execution_count": 6,
     "metadata": {},
     "output_type": "execute_result"
    }
   ],
   "source": [
    "data.head \n"
   ]
  },
  {
   "cell_type": "code",
   "execution_count": 7,
   "id": "543ce25e",
   "metadata": {},
   "outputs": [
    {
     "data": {
      "text/plain": [
       "41"
      ]
     },
     "execution_count": 7,
     "metadata": {},
     "output_type": "execute_result"
    }
   ],
   "source": [
    "len(data['prognosis'].unique())"
   ]
  },
  {
   "cell_type": "code",
   "execution_count": 8,
   "id": "6875877b",
   "metadata": {},
   "outputs": [],
   "source": [
    "from sklearn.model_selection import train_test_split\n",
    "from sklearn.preprocessing import LabelEncoder"
   ]
  },
  {
   "cell_type": "code",
   "execution_count": 9,
   "id": "45e8e1ee",
   "metadata": {},
   "outputs": [],
   "source": [
    "x=data.drop(\"prognosis\",axis=1)\n",
    "y=data['prognosis']"
   ]
  },
  {
   "cell_type": "code",
   "execution_count": 10,
   "id": "c4edf9af",
   "metadata": {},
   "outputs": [
    {
     "data": {
      "text/plain": [
       "0                              Fungal infection\n",
       "1                              Fungal infection\n",
       "2                              Fungal infection\n",
       "3                              Fungal infection\n",
       "4                              Fungal infection\n",
       "                         ...                   \n",
       "4915    (vertigo) Paroymsal  Positional Vertigo\n",
       "4916                                       Acne\n",
       "4917                    Urinary tract infection\n",
       "4918                                  Psoriasis\n",
       "4919                                   Impetigo\n",
       "Name: prognosis, Length: 4920, dtype: object"
      ]
     },
     "execution_count": 10,
     "metadata": {},
     "output_type": "execute_result"
    }
   ],
   "source": [
    "y"
   ]
  },
  {
   "cell_type": "code",
   "execution_count": 11,
   "id": "df46ce8b",
   "metadata": {},
   "outputs": [],
   "source": [
    "le=LabelEncoder()\n",
    "le.fit(y)\n",
    "Y=le.transform(y)"
   ]
  },
  {
   "cell_type": "code",
   "execution_count": 12,
   "id": "78dee19c",
   "metadata": {},
   "outputs": [
    {
     "data": {
      "text/plain": [
       "array([15, 15, 15, ..., 38, 35, 27])"
      ]
     },
     "execution_count": 12,
     "metadata": {},
     "output_type": "execute_result"
    }
   ],
   "source": [
    "Y"
   ]
  },
  {
   "cell_type": "code",
   "execution_count": 13,
   "id": "024c6fa5",
   "metadata": {},
   "outputs": [],
   "source": [
    "x_train,x_test,y_train,y_test=train_test_split(x,Y,test_size=0.3,random_state=20)"
   ]
  },
  {
   "cell_type": "code",
   "execution_count": 14,
   "id": "a04a4159",
   "metadata": {},
   "outputs": [],
   "source": [
    "from sklearn.datasets import make_classification\n",
    "from sklearn.svm import SVC\n",
    "from sklearn.ensemble import RandomForestClassifier ,GradientBoostingClassifier\n",
    "from sklearn.neighbors import KNeighborsClassifier\n",
    "from sklearn.naive_bayes import MultinomialNB\n",
    "\n",
    "from sklearn.metrics import accuracy_score, confusion_matrix"
   ]
  },
  {
   "cell_type": "code",
   "execution_count": 15,
   "id": "a02c1cbd",
   "metadata": {},
   "outputs": [
    {
     "name": "stdout",
     "output_type": "stream",
     "text": [
      "MultinomialNB accuracy :1.0\n",
      "MultinomialNB  confusion matrix \n",
      "[[40, 0, 0,..., 0, 0, 0],\n",
      " [ 0,43, 0,..., 0, 0, 0],\n",
      " [ 0, 0,28,..., 0, 0, 0],\n",
      " ...,\n",
      " [ 0, 0, 0,...,34, 0, 0],\n",
      " [ 0, 0, 0,..., 0,41, 0],\n",
      " [ 0, 0, 0,..., 0, 0,31]]\n"
     ]
    }
   ],
   "source": [
    "# created a dictionary to run everything at once \n",
    "models = {\n",
    "    \"SVC\":SVC(kernel='linear'),\n",
    "     \"RandomForest\": RandomForestClassifier(n_estimators=100, random_state=42),\n",
    "     'GradientBoosting': GradientBoostingClassifier(n_estimators=100,random_state=42),\n",
    "     \"KNeighbors\": KNeighborsClassifier(n_neighbors=5),\n",
    "     \"MultinomialNB\": MultinomialNB()\n",
    "\n",
    "}\n",
    "for model_name ,model in models.items():\n",
    " model.fit(x_train,y_train)\n",
    "predictions = model.predict(x_test)\n",
    "accuracy= accuracy_score(y_test,predictions)\n",
    "cm=confusion_matrix(y_test,predictions)\n",
    "\n",
    "print(f\"{model_name} accuracy :{accuracy}\")\n",
    "print(f\"{model_name}  confusion matrix \")\n",
    "print(np.array2string(cm, separator=','))"
   ]
  },
  {
   "cell_type": "code",
   "execution_count": 16,
   "id": "53d84cc7",
   "metadata": {},
   "outputs": [
    {
     "data": {
      "text/plain": [
       "1.0"
      ]
     },
     "execution_count": 16,
     "metadata": {},
     "output_type": "execute_result"
    }
   ],
   "source": [
    "svc= SVC(kernel='linear')\n",
    "svc.fit(x_train,y_train)\n",
    "ypred=svc.predict(x_test)\n",
    "accuracy_score(y_test,ypred)"
   ]
  },
  {
   "cell_type": "code",
   "execution_count": 17,
   "id": "1099f3a9",
   "metadata": {},
   "outputs": [],
   "source": [
    "import pickle  \n",
    "pickle.dump(svc,open(r\"svc.pkl\",'wb'))"
   ]
  },
  {
   "cell_type": "code",
   "execution_count": 18,
   "id": "51b4c27e",
   "metadata": {},
   "outputs": [],
   "source": [
    "svc=pickle.load(open(r\"svc.pkl\",'rb'))"
   ]
  },
  {
   "cell_type": "code",
   "execution_count": 19,
   "id": "7874e69c",
   "metadata": {},
   "outputs": [
    {
     "name": "stdout",
     "output_type": "stream",
     "text": [
      "model predicted label: [40]\n",
      "actual label  40\n"
     ]
    },
    {
     "name": "stderr",
     "output_type": "stream",
     "text": [
      "c:\\Users\\ARINDAM PAL\\AppData\\Local\\Programs\\Python\\Python312\\Lib\\site-packages\\sklearn\\base.py:493: UserWarning: X does not have valid feature names, but SVC was fitted with feature names\n",
      "  warnings.warn(\n"
     ]
    }
   ],
   "source": [
    "print (\"model predicted label:\",svc.predict(x_test.iloc[0].values.reshape(1,-1)))  #test1\n",
    "print(\"actual label \",y_test[0])"
   ]
  },
  {
   "cell_type": "code",
   "execution_count": 24,
   "id": "fdb8c1cb",
   "metadata": {},
   "outputs": [
    {
     "name": "stdout",
     "output_type": "stream",
     "text": [
      "model predicted label: [20]\n",
      "actual label  20\n"
     ]
    },
    {
     "name": "stderr",
     "output_type": "stream",
     "text": [
      "c:\\Users\\ARINDAM PAL\\AppData\\Local\\Programs\\Python\\Python312\\Lib\\site-packages\\sklearn\\base.py:493: UserWarning: X does not have valid feature names, but SVC was fitted with feature names\n",
      "  warnings.warn(\n"
     ]
    }
   ],
   "source": [
    "print (\"model predicted label:\",svc.predict(x_test.iloc[10].values.reshape(1,-1)))  #test2\n",
    "print(\"actual label \",y_test[10])"
   ]
  },
  {
   "cell_type": "code",
   "execution_count": 25,
   "id": "f0bad6d4",
   "metadata": {},
   "outputs": [],
   "source": [
    "symptoms_dict = {'itching': 0, 'skin_rash': 1, 'nodal_skin_eruptions': 2, 'continuous_sneezing': 3, 'shivering': 4, 'chills': 5, 'joint_pain': 6, 'stomach_pain': 7, 'acidity': 8, 'ulcers_on_tongue': 9, 'muscle_wasting': 10, 'vomiting': 11, 'burning_micturition': 12, 'spotting_ urination': 13, 'fatigue': 14, 'weight_gain': 15, 'anxiety': 16, 'cold_hands_and_feets': 17, 'mood_swings': 18, 'weight_loss': 19, 'restlessness': 20, 'lethargy': 21, 'patches_in_throat': 22, 'irregular_sugar_level': 23, 'cough': 24, 'high_fever': 25, 'sunken_eyes': 26, 'breathlessness': 27, 'sweating': 28, 'dehydration': 29, 'indigestion': 30, 'headache': 31, 'yellowish_skin': 32, 'dark_urine': 33, 'nausea': 34, 'loss_of_appetite': 35, 'pain_behind_the_eyes': 36, 'back_pain': 37, 'constipation': 38, 'abdominal_pain': 39, 'diarrhoea': 40, 'mild_fever': 41, 'yellow_urine': 42, 'yellowing_of_eyes': 43, 'acute_liver_failure': 44, 'fluid_overload': 45, 'swelling_of_stomach': 46, 'swelled_lymph_nodes': 47, 'malaise': 48, 'blurred_and_distorted_vision': 49, 'phlegm': 50, 'throat_irritation': 51, 'redness_of_eyes': 52, 'sinus_pressure': 53, 'runny_nose': 54, 'congestion': 55, 'chest_pain': 56, 'weakness_in_limbs': 57, 'fast_heart_rate': 58, 'pain_during_bowel_movements': 59, 'pain_in_anal_region': 60, 'bloody_stool': 61, 'irritation_in_anus': 62, 'neck_pain': 63, 'dizziness': 64, 'cramps': 65, 'bruising': 66, 'obesity': 67, 'swollen_legs': 68, 'swollen_blood_vessels': 69, 'puffy_face_and_eyes': 70, 'enlarged_thyroid': 71, 'brittle_nails': 72, 'swollen_extremeties': 73, 'excessive_hunger': 74, 'extra_marital_contacts': 75, 'drying_and_tingling_lips': 76, 'slurred_speech': 77, 'knee_pain': 78, 'hip_joint_pain': 79, 'muscle_weakness': 80, 'stiff_neck': 81, 'swelling_joints': 82, 'movement_stiffness': 83, 'spinning_movements': 84, 'loss_of_balance': 85, 'unsteadiness': 86, 'weakness_of_one_body_side': 87, 'loss_of_smell': 88, 'bladder_discomfort': 89, 'foul_smell_of urine': 90, 'continuous_feel_of_urine': 91, 'passage_of_gases': 92, 'internal_itching': 93, 'toxic_look_(typhos)': 94, 'depression': 95, 'irritability': 96, 'muscle_pain': 97, 'altered_sensorium': 98, 'red_spots_over_body': 99, 'belly_pain': 100, 'abnormal_menstruation': 101, 'dischromic _patches': 102, 'watering_from_eyes': 103, 'increased_appetite': 104, 'polyuria': 105, 'family_history': 106, 'mucoid_sputum': 107, 'rusty_sputum': 108, 'lack_of_concentration': 109, 'visual_disturbances': 110, 'receiving_blood_transfusion': 111, 'receiving_unsterile_injections': 112, 'coma': 113, 'stomach_bleeding': 114, 'distention_of_abdomen': 115, 'history_of_alcohol_consumption': 116, 'fluid_overload.1': 117, 'blood_in_sputum': 118, 'prominent_veins_on_calf': 119, 'palpitations': 120, 'painful_walking': 121, 'pus_filled_pimples': 122, 'blackheads': 123, 'scurring': 124, 'skin_peeling': 125, 'silver_like_dusting': 126, 'small_dents_in_nails': 127, 'inflammatory_nails': 128, 'blister': 129, 'red_sore_around_nose': 130, 'yellow_crust_ooze': 131}\n",
    "\n",
    "\n",
    "diseases_list = {15: 'Fungal infection', 4: 'Allergy', 16: 'GERD', 9: 'Chronic cholestasis', 14: 'Drug Reaction', 33: 'Peptic ulcer diseae', 1: 'AIDS', 12: 'Diabetes ', 17: 'Gastroenteritis', 6: 'Bronchial Asthma', 23: 'Hypertension ', 30: 'Migraine', 7: 'Cervical spondylosis', 32: 'Paralysis (brain hemorrhage)', 28: 'Jaundice', 29: 'Malaria', 8: 'Chicken pox', 11: 'Dengue', 37: 'Typhoid', 40: 'hepatitis A', 19: 'Hepatitis B', 20: 'Hepatitis C', 21: 'Hepatitis D', 22: 'Hepatitis E', 3: 'Alcoholic hepatitis', 36: 'Tuberculosis', 10: 'Common Cold', 34: 'Pneumonia', 13: 'Dimorphic hemmorhoids(piles)', 18: 'Heart attack', 39: 'Varicose veins', 26: 'Hypothyroidism', 24: 'Hyperthyroidism', 25: 'Hypoglycemia', 31: 'Osteoarthristis', 5: 'Arthritis', 0: '(vertigo) Paroymsal  Positional Vertigo', 2: 'Acne', 38: 'Urinary tract infection', 35: 'Psoriasis', 27: 'Impetigo'}\n"
   ]
  },
  {
   "cell_type": "code",
   "execution_count": 22,
   "id": "a8becd2f",
   "metadata": {},
   "outputs": [],
   "source": [
    "#model function\n",
    "def get_disease(patient_symptoms):\n",
    "   input_vector= np.zeros(len(symptoms_dict))\n",
    "\n",
    "   for item in patient_symptoms:\n",
    "      input_vector[symptoms_dict[item]]=1\n",
    "      return diseases_list[svc.predict([input_vector])[0]]\n",
    "   \n"
   ]
  },
  {
   "cell_type": "code",
   "execution_count": 27,
   "id": "42653944",
   "metadata": {},
   "outputs": [],
   "source": [
    "\n",
    "# Load the dataset\n",
    "doctor_df = pd.read_csv(r\"C:\\Users\\ARINDAM PAL\\OneDrive\\Desktop\\ML RECOMENDATION\\medical-ai-recommendation\\recommendation\\Model\\Doctor_data_with_diseases.csv\")\n",
    "\n",
    "# Function to recommend doctors based on disease\n",
    "def suggest_doctors(disease, doctors_df, sort_by=\"both\"):\n",
    "    # Filter doctors by disease (search within the 'Diseases' column)\n",
    "    filtered_doctors = doctors_df[doctors_df['Diseases'].str.contains(disease, case=False, na=False)]\n",
    "    \n",
    "    # Sort doctors by experience or rating\n",
    "    if sort_by == 'experience':\n",
    "        sorted_doctors = filtered_doctors.sort_values(by='Experience', ascending=False)\n",
    "    elif sort_by == 'rating':\n",
    "        sorted_doctors = filtered_doctors.sort_values(by='Rating', ascending=False)\n",
    "    elif sort_by == 'both':\n",
    "        sorted_doctors = filtered_doctors.sort_values(by=['Experience', 'Rating'], ascending=[False, False])\n",
    "    \n",
    "    # Return the sorted list of doctors\n",
    "    return sorted_doctors"
   ]
  },
  {
   "cell_type": "code",
   "execution_count": 28,
   "id": "ae469d66",
   "metadata": {},
   "outputs": [
    {
     "name": "stderr",
     "output_type": "stream",
     "text": [
      "c:\\Users\\ARINDAM PAL\\AppData\\Local\\Programs\\Python\\Python312\\Lib\\site-packages\\sklearn\\base.py:493: UserWarning: X does not have valid feature names, but SVC was fitted with feature names\n",
      "  warnings.warn(\n"
     ]
    }
   ],
   "source": [
    "symptoms= input(\"enter your symptoms: \").lower()\n",
    "user_symptoms=[s.strip() for s in  symptoms.split(',')]\n",
    "user_symptoms=[sym.strip(\"[]'\") for sym in user_symptoms]\n",
    "predicted = get_disease(user_symptoms)"
   ]
  },
  {
   "cell_type": "code",
   "execution_count": 29,
   "id": "03330b19",
   "metadata": {},
   "outputs": [
    {
     "data": {
      "text/plain": [
       "'Fungal infection'"
      ]
     },
     "execution_count": 29,
     "metadata": {},
     "output_type": "execute_result"
    }
   ],
   "source": [
    "predicted\n"
   ]
  },
  {
   "cell_type": "code",
   "execution_count": 30,
   "id": "fa84fe5e",
   "metadata": {},
   "outputs": [
    {
     "name": "stdout",
     "output_type": "stream",
     "text": [
      "    DoctorID                   Name Specialization  \\\n",
      "259   Doc260           Gayathri Rai  Dermatologist   \n",
      "413   Doc414        Aarnav Yohannan  Dermatologist   \n",
      "273   Doc274      Lohit Chakraborty  Dermatologist   \n",
      "32    Doc033          Anita Rastogi  Dermatologist   \n",
      "86    Doc087           Vritti Menon  Dermatologist   \n",
      "28    Doc029      Warinder Bhandari  Dermatologist   \n",
      "113   Doc114              Sachi Oak  Dermatologist   \n",
      "140   Doc141              Zarna Dar  Dermatologist   \n",
      "406   Doc407            Parth Hayre  Dermatologist   \n",
      "479   Doc480        Falguni Mahajan  Dermatologist   \n",
      "34    Doc035         Dayamai Saxena  Dermatologist   \n",
      "345   Doc346               Kai Dhar  Dermatologist   \n",
      "278   Doc279         Siddharth Devi  Dermatologist   \n",
      "462   Doc463          Vedika Badami  Dermatologist   \n",
      "338   Doc339           Samar Parekh  Dermatologist   \n",
      "17    Doc018            Shaurya Dey  Dermatologist   \n",
      "165   Doc166  Yashodhara Narasimhan  Dermatologist   \n",
      "266   Doc267         Charan Pradhan  Dermatologist   \n",
      "251   Doc252           Faras Prasad  Dermatologist   \n",
      "239   Doc240           Indali Palla  Dermatologist   \n",
      "246   Doc247      Yashodhara Sekhon  Dermatologist   \n",
      "538   Doc539        Theodore Vaidya  Dermatologist   \n",
      "263   Doc264        Utkarsh Kadakia  Dermatologist   \n",
      "92    Doc093           Arjun Sarkar  Dermatologist   \n",
      "456   Doc457             Yug Thaman  Dermatologist   \n",
      "104   Doc105           Radha Ramesh  Dermatologist   \n",
      "44    Doc045          Ishani Mangat  Dermatologist   \n",
      "297   Doc298             Hemal Kaul  Dermatologist   \n",
      "245   Doc246          Yashica Mitra  Dermatologist   \n",
      "49    Doc050       Damyanti Chaudry  Dermatologist   \n",
      "16    Doc017           Chandani Sha  Dermatologist   \n",
      "525   Doc526            Zinal Divan  Dermatologist   \n",
      "548   Doc549            Udant Magar  Dermatologist   \n",
      "513   Doc514        Advik Rajagopal  Dermatologist   \n",
      "\n",
      "                                        Diseases  Experience   Location  \\\n",
      "259  Fungal infection, Acne, Psoriasis, Impetigo          24      Surat   \n",
      "413  Fungal infection, Acne, Psoriasis, Impetigo           1     Mumbai   \n",
      "273  Fungal infection, Acne, Psoriasis, Impetigo          33    Kolkata   \n",
      "32   Fungal infection, Acne, Psoriasis, Impetigo           7   Ludhiana   \n",
      "86   Fungal infection, Acne, Psoriasis, Impetigo          38  Bangalore   \n",
      "28   Fungal infection, Acne, Psoriasis, Impetigo           6       Agra   \n",
      "113  Fungal infection, Acne, Psoriasis, Impetigo           2  Hyderabad   \n",
      "140  Fungal infection, Acne, Psoriasis, Impetigo          40       Agra   \n",
      "406  Fungal infection, Acne, Psoriasis, Impetigo          23     Jaipur   \n",
      "479  Fungal infection, Acne, Psoriasis, Impetigo          25  Hyderabad   \n",
      "34   Fungal infection, Acne, Psoriasis, Impetigo          22     Mumbai   \n",
      "345  Fungal infection, Acne, Psoriasis, Impetigo          16     Nagpur   \n",
      "278  Fungal infection, Acne, Psoriasis, Impetigo          21       Agra   \n",
      "462  Fungal infection, Acne, Psoriasis, Impetigo          28     Nagpur   \n",
      "338  Fungal infection, Acne, Psoriasis, Impetigo           9      Patna   \n",
      "17   Fungal infection, Acne, Psoriasis, Impetigo          19     Indore   \n",
      "165  Fungal infection, Acne, Psoriasis, Impetigo          18       Pune   \n",
      "266  Fungal infection, Acne, Psoriasis, Impetigo           9      Surat   \n",
      "251  Fungal infection, Acne, Psoriasis, Impetigo           3      Delhi   \n",
      "239  Fungal infection, Acne, Psoriasis, Impetigo           9     Bhopal   \n",
      "246  Fungal infection, Acne, Psoriasis, Impetigo          25      Patna   \n",
      "538  Fungal infection, Acne, Psoriasis, Impetigo          33    Kolkata   \n",
      "263  Fungal infection, Acne, Psoriasis, Impetigo          12    Kolkata   \n",
      "92   Fungal infection, Acne, Psoriasis, Impetigo          22     Mumbai   \n",
      "456  Fungal infection, Acne, Psoriasis, Impetigo          31   Ludhiana   \n",
      "104  Fungal infection, Acne, Psoriasis, Impetigo          13     Bhopal   \n",
      "44   Fungal infection, Acne, Psoriasis, Impetigo           7     Kanpur   \n",
      "297  Fungal infection, Acne, Psoriasis, Impetigo           6     Nagpur   \n",
      "245  Fungal infection, Acne, Psoriasis, Impetigo          22  Ahmedabad   \n",
      "49   Fungal infection, Acne, Psoriasis, Impetigo           7     Mumbai   \n",
      "16   Fungal infection, Acne, Psoriasis, Impetigo          12  Hyderabad   \n",
      "525  Fungal infection, Acne, Psoriasis, Impetigo           2      Delhi   \n",
      "548  Fungal infection, Acne, Psoriasis, Impetigo          22  Ahmedabad   \n",
      "513  Fungal infection, Acne, Psoriasis, Impetigo          29    Chennai   \n",
      "\n",
      "     Rating  \n",
      "259     5.0  \n",
      "413     4.7  \n",
      "273     4.6  \n",
      "32      4.6  \n",
      "86      4.4  \n",
      "28      4.3  \n",
      "113     4.1  \n",
      "140     4.1  \n",
      "406     4.0  \n",
      "479     4.0  \n",
      "34      3.9  \n",
      "345     3.9  \n",
      "278     3.9  \n",
      "462     3.8  \n",
      "338     3.6  \n",
      "17      3.6  \n",
      "165     3.6  \n",
      "266     3.4  \n",
      "251     3.4  \n",
      "239     3.4  \n",
      "246     3.1  \n",
      "538     2.8  \n",
      "263     2.7  \n",
      "92      2.7  \n",
      "456     2.5  \n",
      "104     2.5  \n",
      "44      2.3  \n",
      "297     2.0  \n",
      "245     2.0  \n",
      "49      2.0  \n",
      "16      1.6  \n",
      "525     1.6  \n",
      "548     1.6  \n",
      "513     1.5  \n"
     ]
    }
   ],
   "source": [
    "\n",
    "suggested_doctors = suggest_doctors(predicted, doctor_df, 'rating')\n",
    "print(suggested_doctors)"
   ]
  },
  {
   "cell_type": "code",
   "execution_count": 58,
   "id": "c8522925",
   "metadata": {},
   "outputs": [
    {
     "name": "stdout",
     "output_type": "stream",
     "text": [
      "1.5.2\n"
     ]
    }
   ],
   "source": [
    "import sklearn\n",
    "print(sklearn.__version__)"
   ]
  }
 ],
 "metadata": {
  "kernelspec": {
   "display_name": "Python 3",
   "language": "python",
   "name": "python3"
  },
  "language_info": {
   "codemirror_mode": {
    "name": "ipython",
    "version": 3
   },
   "file_extension": ".py",
   "mimetype": "text/x-python",
   "name": "python",
   "nbconvert_exporter": "python",
   "pygments_lexer": "ipython3",
   "version": "3.12.4"
  }
 },
 "nbformat": 4,
 "nbformat_minor": 5
}
